{
 "cells": [
  {
   "cell_type": "code",
   "execution_count": 1,
   "id": "d543755b-d325-483a-bf6a-d5a3f798e7d7",
   "metadata": {},
   "outputs": [],
   "source": [
    "import geopandas as gpd\n",
    "import fiona"
   ]
  },
  {
   "cell_type": "markdown",
   "id": "8c5d845d-3886-4190-80cb-5ffd0c193fc3",
   "metadata": {},
   "source": [
    "## gpkg files\n",
    "\n",
    "Geopackage files are sqlite databases with layers of geometry information. The gpkg file for Namibia here has been downloaded from [https://gadm.org/download_country.html](https://gadm.org/download_country.html)"
   ]
  },
  {
   "cell_type": "code",
   "execution_count": 2,
   "id": "c45160ce-0939-4da1-92da-c733ef483742",
   "metadata": {},
   "outputs": [],
   "source": [
    "gpkg_filename = '../src/deepmap/data/gadm41_NAM.gpkg'"
   ]
  },
  {
   "cell_type": "markdown",
   "id": "178b1ac5-eca3-4b63-8f0a-3c9a34a57970",
   "metadata": {},
   "source": [
    "We can use `geopandas` to read a gpkg as a DataFrame."
   ]
  },
  {
   "cell_type": "code",
   "execution_count": 3,
   "id": "2369b63c-28ba-457e-9a94-0dd020fd389a",
   "metadata": {},
   "outputs": [
    {
     "data": {
      "text/html": [
       "<div>\n",
       "<style scoped>\n",
       "    .dataframe tbody tr th:only-of-type {\n",
       "        vertical-align: middle;\n",
       "    }\n",
       "\n",
       "    .dataframe tbody tr th {\n",
       "        vertical-align: top;\n",
       "    }\n",
       "\n",
       "    .dataframe thead th {\n",
       "        text-align: right;\n",
       "    }\n",
       "</style>\n",
       "<table border=\"1\" class=\"dataframe\">\n",
       "  <thead>\n",
       "    <tr style=\"text-align: right;\">\n",
       "      <th></th>\n",
       "      <th>GID_0</th>\n",
       "      <th>COUNTRY</th>\n",
       "      <th>geometry</th>\n",
       "    </tr>\n",
       "  </thead>\n",
       "  <tbody>\n",
       "    <tr>\n",
       "      <th>0</th>\n",
       "      <td>NAM</td>\n",
       "      <td>Namibia</td>\n",
       "      <td>MULTIPOLYGON (((16.28153 -28.50514, 16.28181 -...</td>\n",
       "    </tr>\n",
       "  </tbody>\n",
       "</table>\n",
       "</div>"
      ],
      "text/plain": [
       "  GID_0  COUNTRY                                           geometry\n",
       "0   NAM  Namibia  MULTIPOLYGON (((16.28153 -28.50514, 16.28181 -..."
      ]
     },
     "execution_count": 3,
     "metadata": {},
     "output_type": "execute_result"
    }
   ],
   "source": [
    "df = gpd.read_file(gpkg_filename)\n",
    "df.head()  # A single row since the gpkg is only for a specific country (NAM)"
   ]
  },
  {
   "cell_type": "markdown",
   "id": "82d82104-fef5-4927-aef9-ed465d54de40",
   "metadata": {},
   "source": [
    "We'll use the more convenient `fiona` package to deal with the geometries included in this `.gpkg` file.\n",
    "\n",
    "A `.gpkg` file has layers. In this case, each layer represents polygons at different administrative/geographical scales (something like country->state->county)."
   ]
  },
  {
   "cell_type": "code",
   "execution_count": 4,
   "id": "8efdb0a1-53bc-4403-9221-4709827c6593",
   "metadata": {},
   "outputs": [
    {
     "name": "stdout",
     "output_type": "stream",
     "text": [
      "['ADM_ADM_0', 'ADM_ADM_1', 'ADM_ADM_2']\n"
     ]
    }
   ],
   "source": [
    "layer_names = fiona.listlayers(gpkg_filename)\n",
    "print(layer_names)"
   ]
  },
  {
   "cell_type": "code",
   "execution_count": 5,
   "id": "d1eb2574-8a75-4fdc-b04a-723b4f761822",
   "metadata": {},
   "outputs": [],
   "source": [
    "first_layer_name = layer_names[0]\n",
    "\n",
    "# A gpkg has layers\n",
    "with fiona.open(gpkg_filename, layer=first_layer_name) as layer:\n",
    "    \n",
    "    i = 0\n",
    "    \n",
    "    # A layer has features\n",
    "    for feature in layer:\n",
    "        # A feature has geometry (and other properties)\n",
    "        geometry = feature['geometry']\n",
    "        \n",
    "        # A geometry has a type and coordinates\n",
    "        if geometry['type'] == 'MultiPolygon':\n",
    "            coordinates = geometry['coordinates']\n",
    "            \n",
    "            # coordinates is a list of 1 (not sure why 1 extra level of abstraction here)\n",
    "            polygons = coordinates[0]\n",
    "            \n",
    "            # For each polygon\n",
    "            for polygon in polygons:\n",
    "                \n",
    "                # For each vertex in the polygon\n",
    "                for coordinate in polygon:\n",
    "                    \n",
    "                    # The vertex is a 2-tuple of coordinates\n",
    "                    assert type(coordinate) == tuple\n",
    "                    assert len(coordinate) == 2"
   ]
  }
 ],
 "metadata": {
  "kernelspec": {
   "display_name": "Python 3 (ipykernel)",
   "language": "python",
   "name": "python3"
  },
  "language_info": {
   "codemirror_mode": {
    "name": "ipython",
    "version": 3
   },
   "file_extension": ".py",
   "mimetype": "text/x-python",
   "name": "python",
   "nbconvert_exporter": "python",
   "pygments_lexer": "ipython3",
   "version": "3.9.13"
  }
 },
 "nbformat": 4,
 "nbformat_minor": 5
}
