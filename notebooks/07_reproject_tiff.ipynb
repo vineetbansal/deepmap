{
 "cells": [
  {
   "cell_type": "code",
   "execution_count": 5,
   "id": "f481f08f-4c39-4bd7-aee4-2226ebd944b5",
   "metadata": {},
   "outputs": [],
   "source": [
    "import os.path\n",
    "import rasterio\n",
    "from rasterio.warp import calculate_default_transform, reproject, Resampling\n",
    "\n",
    "TIFF = 'omuti.tif'"
   ]
  },
  {
   "cell_type": "markdown",
   "id": "eac75a52-0b0d-43df-a1dc-e87eee6810ee",
   "metadata": {},
   "source": [
    "## Reproject a TIFF file to another Coordinate Reference System\n",
    "\n",
    "For most ML tasks, we'll be dealing with raster images, without concerning ourselves with where in the physical world these images map to. At some point, if we wish to overlay these raster images to a real map that we can pan/zoom, we *may* need to reproject these raster images to an arbitrary CRS (though most libraries should allow us to specify the assumed CRS of the tif and do the reprojection/distortion/interpolation on the fly)."
   ]
  },
  {
   "cell_type": "code",
   "execution_count": 6,
   "id": "75014ad5-39b7-4b4b-8b31-f64b926a3368",
   "metadata": {},
   "outputs": [],
   "source": [
    "# Destination CRS\n",
    "DST_CRS = 'EPSG:4326'"
   ]
  },
  {
   "cell_type": "markdown",
   "id": "a7420960-95a7-4f16-984f-a76a5f40bc9f",
   "metadata": {},
   "source": [
    "A function to reproject an input tif with a crs and save as an output tif follows."
   ]
  },
  {
   "cell_type": "code",
   "execution_count": 7,
   "id": "fe8e7b17-5b6a-48bf-b5dc-5cb975bbb7de",
   "metadata": {},
   "outputs": [],
   "source": [
    "def reproject_tif(input_tif, output_file, dst_crs):\n",
    "    with rasterio.open(input_tif) as src:\n",
    "        transform, width, height = calculate_default_transform(\n",
    "            src.crs, dst_crs, src.width, src.height, *src.bounds)\n",
    "        kwargs = src.meta.copy()\n",
    "        kwargs.update({\n",
    "            'crs': dst_crs,\n",
    "            'transform': transform,\n",
    "            'width': width,\n",
    "            'height': height\n",
    "        })\n",
    "        if output_file.endswith('.png'):\n",
    "            kwargs['driver'] = 'PNG'\n",
    "\n",
    "        with rasterio.open(output_file, 'w', **kwargs) as dst:\n",
    "            for i in range(1, src.count + 1):\n",
    "                destination, dst_transform = reproject(\n",
    "                    source=rasterio.band(src, i),\n",
    "                    destination=rasterio.band(dst, i),\n",
    "                    src_transform=src.transform,\n",
    "                    src_crs=src.crs,\n",
    "                    dst_transform=transform,\n",
    "                    dst_crs=dst_crs,\n",
    "                    resampling=Resampling.nearest)"
   ]
  },
  {
   "cell_type": "code",
   "execution_count": 8,
   "id": "adf6d6b7-2028-4d1a-95f8-5bbc211ee44e",
   "metadata": {},
   "outputs": [
    {
     "name": "stdout",
     "output_type": "stream",
     "text": [
      "CRS of the Input tif is EPSG:32733\n",
      "CRS of the reprojected tif is EPSG:4326\n"
     ]
    }
   ],
   "source": [
    "output_file = os.path.splitext(os.path.basename(TIFF))[0] + \"_\" + DST_CRS.replace(\":\", \"_\").lower() + \".png\"\n",
    "reproject_tif(TIFF, output_file, DST_CRS)\n",
    "\n",
    "with rasterio.open(TIFF, 'r') as input_raster:\n",
    "    print('CRS of the Input tif is {}'.format(input_raster.crs))\n",
    "    \n",
    "with rasterio.open(output_file, 'r') as output_raster:\n",
    "    print('CRS of the reprojected tif is {}'.format(output_raster.crs))"
   ]
  }
 ],
 "metadata": {
  "kernelspec": {
   "display_name": "Python 3 (ipykernel)",
   "language": "python",
   "name": "python3"
  },
  "language_info": {
   "codemirror_mode": {
    "name": "ipython",
    "version": 3
   },
   "file_extension": ".py",
   "mimetype": "text/x-python",
   "name": "python",
   "nbconvert_exporter": "python",
   "pygments_lexer": "ipython3",
   "version": "3.9.13"
  }
 },
 "nbformat": 4,
 "nbformat_minor": 5
}
